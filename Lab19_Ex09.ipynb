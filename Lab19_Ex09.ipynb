{
 "cells": [
  {
   "cell_type": "markdown",
   "metadata": {
    "polyglot_notebook": {
     "kernelName": "csharp"
    }
   },
   "source": [
    "# Lab 19 Exercise 9\n",
    "\n"
   ]
  },
  {
   "cell_type": "markdown",
   "metadata": {},
   "source": [
    "## Action\n",
    "\n"
   ]
  },
  {
   "cell_type": "markdown",
   "metadata": {},
   "source": [
    "1.สร้าง console application project\n",
    "\n",
    "```cmd\n",
    "dotnet new console --name Lab19_Ex09\n",
    "```\n",
    "\n"
   ]
  },
  {
   "cell_type": "markdown",
   "metadata": {},
   "source": [
    "2.เปลี่ยน code ให้เป็นดังต่อไปนี้\n",
    "\n",
    "```csharp\n",
    "// Action\n",
    "Action a = Print;\n",
    "a();\n",
    "\n",
    "Action<int, int, int> s = PrintSum;\n",
    "s(4, 5, 6);\n",
    "\n",
    "Action<int, int> sum = (a, b) =>\n",
    "{\n",
    "    var x = a + b;\n",
    "    System.Console.WriteLine(\"result = \" + x);\n",
    "};\n",
    "sum(8, 2);\n",
    "\n",
    "\n",
    "static void Print()\n",
    "{\n",
    "    System.Console.WriteLine(\"Hello World\");\n",
    "}\n",
    "static void PrintSum(int a, int b, int c)\n",
    "{\n",
    "    System.Console.WriteLine($\"sum = {a + b + c}\");\n",
    "}\n",
    "```\n",
    "\n"
   ]
  },
  {
   "cell_type": "markdown",
   "metadata": {},
   "source": [
    "3.Build project โดยการใช้คำสั่ง\n",
    "\n",
    "```cmd\n",
    "dotnet build  Lab19_Ex09\n",
    "```\n",
    "\n",
    "ถ้ามีที่ผิดพลาดในโปรแกรม ให้แก้ไขให้ถูกต้อง\n",
    "\n"
   ]
  },
  {
   "cell_type": "markdown",
   "metadata": {},
   "source": [
    "4.บันทึกผลที่ได้จากการรันคำสั่งในข้อ 3\n",
    "\n"
   ]
  },
  {
   "cell_type": "markdown",
   "metadata": {},
   "source": [
    "Build succeeded.\n",
    "\n",
    "    0 Warning(s)\n",
    "    \n",
    "    0 Error(s)"
   ]
  },
  {
   "cell_type": "markdown",
   "metadata": {},
   "source": [
    "5.Run project โดยการใช้คำสั่ง\n",
    "\n",
    "```cmd\n",
    "dotnet run --project Lab19_Ex09\n",
    "```\n",
    "\n"
   ]
  },
  {
   "cell_type": "markdown",
   "metadata": {},
   "source": [
    "6.บันทึกผลที่ได้จากการรันคำสั่งในข้อ 5\n",
    "\n"
   ]
  },
  {
   "cell_type": "markdown",
   "metadata": {},
   "source": [
    "Hello World\n",
    "\n",
    "sum = 15\n",
    "\n",
    "result = 10"
   ]
  },
  {
   "cell_type": "markdown",
   "metadata": {},
   "source": [
    "7.อธิบายสิ่งที่พบในการทดลอง\n"
   ]
  },
  {
   "cell_type": "markdown",
   "metadata": {},
   "source": [
    "ใช้ Action Delegate ใน C# เพื่อเรียกใช้เมทอดที่ไม่ส่งค่ากลับ:\n",
    "\n",
    "1. Action (a) ใช้เรียกเมทอด Print ที่แสดงข้อความ \"Hello World\"\n",
    "\n",
    "2. Action<int, int, int> (s) ใช้เรียกเมทอด PrintSum ที่คำนวณผลรวมของ 3 ตัวเลข\n",
    "\n",
    "3. Action<int, int> (sum) ใช้ lambda expression คำนวณผลรวมของ 2 ตัวเลขและแสดงผล"
   ]
  }
 ],
 "metadata": {
  "kernelspec": {
   "display_name": ".NET (C#)",
   "language": "C#",
   "name": ".net-csharp"
  },
  "polyglot_notebook": {
   "kernelInfo": {
    "defaultKernelName": "csharp",
    "items": [
     {
      "aliases": [],
      "languageName": "csharp",
      "name": "csharp"
     }
    ]
   }
  }
 },
 "nbformat": 4,
 "nbformat_minor": 2
}
