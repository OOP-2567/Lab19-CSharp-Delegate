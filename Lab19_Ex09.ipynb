{
 "cells": [
  {
   "cell_type": "markdown",
   "metadata": {
    "polyglot_notebook": {
     "kernelName": "csharp"
    }
   },
   "source": [
    "# Lab 19 Exercise 9\n",
    "\n"
   ]
  },
  {
   "cell_type": "markdown",
   "metadata": {},
   "source": [
    "## Action\n",
    "\n"
   ]
  },
  {
   "cell_type": "markdown",
   "metadata": {},
   "source": [
    "1.สร้าง console application project\n",
    "\n",
    "```cmd\n",
    "dotnet new console --name Lab19_Ex09\n",
    "```\n",
    "\n"
   ]
  },
  {
   "cell_type": "markdown",
   "metadata": {},
   "source": [
    "2.เปลี่ยน code ให้เป็นดังต่อไปนี้\n",
    "\n",
    "```csharp\n",
    "// Action\n",
    "Action a = Print;\n",
    "a();\n",
    "\n",
    "Action<int, int, int> s = PrintSum;\n",
    "s(4, 5, 6);\n",
    "\n",
    "Action<int, int> sum = (a, b) =>\n",
    "{\n",
    "    var x = a + b;\n",
    "    System.Console.WriteLine(\"result = \" + x);\n",
    "};\n",
    "sum(8, 2);\n",
    "\n",
    "\n",
    "static void Print()\n",
    "{\n",
    "    System.Console.WriteLine(\"Hello World\");\n",
    "}\n",
    "static void PrintSum(int a, int b, int c)\n",
    "{\n",
    "    System.Console.WriteLine($\"sum = {a + b + c}\");\n",
    "}\n",
    "```\n",
    "\n"
   ]
  },
  {
   "cell_type": "markdown",
   "metadata": {},
   "source": [
    "3.Build project โดยการใช้คำสั่ง\n",
    "\n",
    "```cmd\n",
    "dotnet build  Lab19_Ex09\n",
    "```\n",
    "\n",
    "ถ้ามีที่ผิดพลาดในโปรแกรม ให้แก้ไขให้ถูกต้อง\n",
    "\n"
   ]
  },
  {
   "cell_type": "markdown",
   "metadata": {},
   "source": [
    "4.บันทึกผลที่ได้จากการรันคำสั่งในข้อ 3\n",
    "\n"
   ]
  },
  {
   "cell_type": "markdown",
   "metadata": {},
   "source": [
    "C:\\Users\\asus\\Documents\\LAB19\\Lab19-CSharp-Delegate>dotnet build  Lab19_Ex09  \n",
    "\n",
    "Restore complete (0.3s)\n",
    "\n",
    "  Lab19_Ex09 succeeded (0.4s) → Lab19_Ex09\\bin\\Debug\\net9.0\\Lab19_Ex09.dll\n",
    "\n",
    "Build succeeded in 1.0s"
   ]
  },
  {
   "cell_type": "markdown",
   "metadata": {},
   "source": [
    "5.Run project โดยการใช้คำสั่ง\n",
    "\n",
    "```cmd\n",
    "dotnet run --project Lab19_Ex09\n",
    "```\n",
    "\n"
   ]
  },
  {
   "cell_type": "markdown",
   "metadata": {},
   "source": [
    "6.บันทึกผลที่ได้จากการรันคำสั่งในข้อ 5\n",
    "\n"
   ]
  },
  {
   "cell_type": "markdown",
   "metadata": {},
   "source": [
    "C:\\Users\\asus\\Documents\\LAB19\\Lab19-CSharp-Delegate>dotnet run --project Lab19_Ex09    \n",
    "\n",
    "Hello World\n",
    "\n",
    "sum = 15\n",
    "\n",
    "result = 10"
   ]
  },
  {
   "cell_type": "markdown",
   "metadata": {},
   "source": [
    "7.อธิบายสิ่งที่พบในการทดลอง\n"
   ]
  },
  {
   "cell_type": "markdown",
   "metadata": {},
   "source": [
    "จากการทดลองมีการใช้ Action delegate โดยมีการใช้งาน 3 รูปแบบ: รูปแบบแรกสร้าง Action ชื่อ a ที่ชี้ไปที่เมธอด Print แล้วเรียกใช้ทำให้แสดง \"Hello World\", รูปแบบที่สองสร้าง Action<int, int, int> ชื่อ s ที่ชี้ไปที่เมธอด PrintSum แล้วเรียกใช้กับพารามิเตอร์ 4, 5, 6 ทำให้แสดง \"sum = 15\", และรูปแบบสุดท้ายสร้าง Action<int, int> ชื่อ sum ด้วย lambda expression แล้วเรียกใช้กับพารามิเตอร์ 8, 2 ทำให้แสดง \"result = 10\" "
   ]
  }
 ],
 "metadata": {
  "kernelspec": {
   "display_name": ".NET (C#)",
   "language": "C#",
   "name": ".net-csharp"
  },
  "polyglot_notebook": {
   "kernelInfo": {
    "defaultKernelName": "csharp",
    "items": [
     {
      "aliases": [],
      "languageName": "csharp",
      "name": "csharp"
     }
    ]
   }
  }
 },
 "nbformat": 4,
 "nbformat_minor": 2
}
