{
 "cells": [
  {
   "cell_type": "markdown",
   "metadata": {
    "polyglot_notebook": {
     "kernelName": "csharp"
    }
   },
   "source": [
    "# Lab 19 Exercise 8\n",
    "\n"
   ]
  },
  {
   "cell_type": "markdown",
   "metadata": {},
   "source": [
    "## Lambda expression\n",
    "\n"
   ]
  },
  {
   "cell_type": "markdown",
   "metadata": {},
   "source": [
    "1.สร้าง console application project\n",
    "\n",
    "```cmd\n",
    "dotnet new console --name Lab19_Ex08\n",
    "```\n",
    "\n"
   ]
  },
  {
   "cell_type": "markdown",
   "metadata": {},
   "source": [
    ".2.เปลี่ยน code ให้เป็นดังต่อไปนี้\n",
    "\n",
    "```csharp\n",
    "int[] numbers = { 5, 4, 1, 3, 9, 8, 6, 7, 2, 0 };\n",
    "int oddNumbers = numbers.Count(n => n % 2 == 1);\n",
    "Console.WriteLine($\"There are {oddNumbers} odd numbers in {string.Join(\" \", numbers)}\");\n",
    "```\n",
    "\n"
   ]
  },
  {
   "cell_type": "markdown",
   "metadata": {},
   "source": [
    ".3.Build project โดยการใช้คำสั่ง\n",
    "\n",
    "```cmd\n",
    "dotnet build  Lab19_Ex08\n",
    "```\n",
    "\n",
    "ถ้ามีที่ผิดพลาดในโปรแกรม ให้แก้ไขให้ถูกต้อง\n",
    "\n"
   ]
  },
  {
   "cell_type": "markdown",
   "metadata": {},
   "source": [
    "4.บันทึกผลที่ได้จากการรันคำสั่งในข้อ 3\n",
    "\n"
   ]
  },
  {
   "cell_type": "markdown",
   "metadata": {},
   "source": [
    "Restore complete (0.4s)\n",
    "  Lab19_Ex8 succeeded (0.7s) → Lab19_Ex8/bin/Debug/net9.0/Lab19_Ex8.dll\n",
    "\n",
    "Build succeeded in 1.7s\n"
   ]
  },
  {
   "cell_type": "markdown",
   "metadata": {},
   "source": [
    "5.Run project โดยการใช้คำสั่ง\n",
    "\n",
    "```cmd\n",
    "dotnet run --project Lab19_Ex08\n",
    "```\n",
    "\n"
   ]
  },
  {
   "cell_type": "markdown",
   "metadata": {},
   "source": [
    "6.บันทึกผลที่ได้จากการรันคำสั่งในข้อ 5\n",
    "\n"
   ]
  },
  {
   "cell_type": "markdown",
   "metadata": {},
   "source": [
    "There are 5 odd numbers in 5 4 1 3 9 8 6 7 2 0\n"
   ]
  },
  {
   "cell_type": "markdown",
   "metadata": {},
   "source": [
    "7.อธิบายสิ่งที่พบในการทดลอง\n"
   ]
  },
  {
   "cell_type": "markdown",
   "metadata": {},
   "source": [
    "มีการสร้างอาร์เรย์ชื่อ numbers ซึ่งเก็บตัวเลข 10 ตัว จากนั้นนับจำนวนเลขคี่ในอาร์เรย์โดยใช้เมธอด Count() กับลัมดาเอ็กซ์เพรสชัน ที่ตรวจสอบว่าเลขหารด้วย 2 แล้วเหลือเศษ 1 หรือไม่\n",
    "\n",
    "แสดงผลลัพธ์ว่ามีเลขคี่กี่ตัวในอาร์เรย์ พร้อมกับแสดงตัวเลขทั้งหมดในอาร์เรย์โดยใช้ string.Join() เพื่อแปลงอาร์เรย์เป็นสตริง ผลลัพธ์ที่แสดงจะเป็น: \"There are 5 odd numbers in 5 4 1 3 9 8 6 7 2 0\""
   ]
  }
 ],
 "metadata": {
  "kernelspec": {
   "display_name": ".NET (C#)",
   "language": "C#",
   "name": ".net-csharp"
  },
  "polyglot_notebook": {
   "kernelInfo": {
    "defaultKernelName": "csharp",
    "items": [
     {
      "aliases": [],
      "languageName": "csharp",
      "name": "csharp"
     }
    ]
   }
  }
 },
 "nbformat": 4,
 "nbformat_minor": 2
}
