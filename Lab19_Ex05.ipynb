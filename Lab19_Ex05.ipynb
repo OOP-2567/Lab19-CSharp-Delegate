{
 "cells": [
  {
   "cell_type": "markdown",
   "metadata": {
    "polyglot_notebook": {
     "kernelName": "csharp"
    }
   },
   "source": [
    "# Lab 19 Exercise 5\n",
    "\n"
   ]
  },
  {
   "cell_type": "markdown",
   "metadata": {},
   "source": [
    "## Generic delegate\n",
    "\n"
   ]
  },
  {
   "cell_type": "markdown",
   "metadata": {},
   "source": [
    "1.สร้าง console application project\n",
    "\n",
    "```cmd\n",
    "dotnet new console --name Lab19_Ex05\n",
    "```\n",
    "\n"
   ]
  },
  {
   "cell_type": "markdown",
   "metadata": {},
   "source": [
    "2.เปลี่ยน code ให้เป็นดังต่อไปนี้\n",
    "\n",
    "```csharp\n",
    "// generic delegate\n",
    "\n",
    "Add<int> sum = NumericSum;\n",
    "int a = 30, b = 50;\n",
    "System.Console.WriteLine($\"Numeric sum of {a} and {b} is {sum(a, b)}\");\n",
    "\n",
    "Add<string> con = StringConcat;\n",
    "string h = \"hello\", w = \"World\";\n",
    "System.Console.WriteLine($\"String concatenate of '{h}' and '{w}' is \\\"{con(h, w)}\\\"\");\n",
    "\n",
    "\n",
    "static int NumericSum(int val1, int val2)\n",
    "{\n",
    "    return val1 + val2;\n",
    "}\n",
    "\n",
    "static string StringConcat(string str1, string str2)\n",
    "{\n",
    "    return str1 + \" \" + str2;\n",
    "}\n",
    "\n",
    "public delegate T Add<T>(T param1, T param2); // generic delegate\n",
    "```\n",
    "\n"
   ]
  },
  {
   "cell_type": "markdown",
   "metadata": {},
   "source": [
    "3.Build project โดยการใช้คำสั่ง\n",
    "\n",
    "```cmd\n",
    "dotnet build  Lab19_Ex05\n",
    "```\n",
    "\n",
    "ถ้ามีที่ผิดพลาดในโปรแกรม ให้แก้ไขให้ถูกต้อง\n",
    "\n"
   ]
  },
  {
   "cell_type": "markdown",
   "metadata": {},
   "source": [
    "4.บันทึกผลที่ได้จากการรันคำสั่งในข้อ 3\n",
    "\n"
   ]
  },
  {
   "cell_type": "markdown",
   "metadata": {},
   "source": [
    "C:\\Users\\asus\\Documents\\LAB19\\Lab19-CSharp-Delegate>dotnet build  Lab19_Ex05     \n",
    "\n",
    "Restore complete (0.3s)\n",
    "\n",
    "  Lab19_Ex05 succeeded (0.3s) → Lab19_Ex05\\bin\\Debug\\net9.0\\Lab19_Ex05.dll\n",
    "\n",
    "Build succeeded in 1.0s"
   ]
  },
  {
   "cell_type": "markdown",
   "metadata": {},
   "source": [
    "5.Run project โดยการใช้คำสั่ง\n",
    "\n",
    "```cmd\n",
    "dotnet run --project Lab19_Ex05\n",
    "```\n",
    "\n"
   ]
  },
  {
   "cell_type": "markdown",
   "metadata": {},
   "source": [
    "6.บันทึกผลที่ได้จากการรันคำสั่งในข้อ 5\n",
    "\n"
   ]
  },
  {
   "cell_type": "markdown",
   "metadata": {},
   "source": [
    "C:\\Users\\asus\\Documents\\LAB19\\Lab19-CSharp-Delegate>dotnet run --project Lab19_Ex05      \n",
    "\n",
    "Numeric sum of 30 and 50 is 80\n",
    "\n",
    "String concatenate of 'hello' and 'World' is \"hello World"
   ]
  },
  {
   "cell_type": "markdown",
   "metadata": {},
   "source": [
    "7.อธิบายสิ่งที่พบในการทดลอง\n"
   ]
  },
  {
   "cell_type": "markdown",
   "metadata": {},
   "source": [
    "จากการทดลองมีการใช้ Generic Delegate  โดยมีการประกาศ delegate ชื่อ Add<T> ที่รับพารามิเตอร์สองตัวประเภท T และส่งคืนค่าประเภท T เช่นกัน จากนั้นมีการใช้ delegate นี้กับข้อมูลสองประเภทคือ:\n",
    "\n",
    "ใช้กับข้อมูลประเภท int โดยสร้าง Add<int> sum ที่ชี้ไปยังเมธอด NumericSum ซึ่งรับพารามิเตอร์สองตัวประเภท int, คำนวณผลรวม และส่งคืนผลลัพธ์ประเภท int\n",
    "\n",
    "ใช้กับข้อมูลประเภท string โดยสร้าง Add<string> con ที่ชี้ไปยังเมธอด StringConcat ซึ่งรับพารามิเตอร์สองตัวประเภท string, เชื่อมต่อสตริงด้วยช่องว่างคั่นกลาง และส่งคืนผลลัพธ์ประเภท string"
   ]
  }
 ],
 "metadata": {
  "kernelspec": {
   "display_name": ".NET (C#)",
   "language": "C#",
   "name": ".net-csharp"
  },
  "polyglot_notebook": {
   "kernelInfo": {
    "defaultKernelName": "csharp",
    "items": [
     {
      "aliases": [],
      "languageName": "csharp",
      "name": "csharp"
     }
    ]
   }
  }
 },
 "nbformat": 4,
 "nbformat_minor": 2
}
