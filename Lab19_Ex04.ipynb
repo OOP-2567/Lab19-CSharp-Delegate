{
 "cells": [
  {
   "cell_type": "markdown",
   "metadata": {
    "polyglot_notebook": {
     "kernelName": "csharp"
    }
   },
   "source": [
    "# Lab 19 Exercise 4\n",
    "\n"
   ]
  },
  {
   "cell_type": "markdown",
   "metadata": {},
   "source": [
    "## Passing delegate as parameter\n",
    "\n"
   ]
  },
  {
   "cell_type": "markdown",
   "metadata": {},
   "source": [
    "1.สร้าง console application project\n",
    "\n",
    "```cmd\n",
    "dotnet new console --name Lab19_Ex04\n",
    "```\n",
    "\n"
   ]
  },
  {
   "cell_type": "markdown",
   "metadata": {},
   "source": [
    "2.เปลี่ยน code ให้เป็นดังต่อไปนี้\n",
    "\n",
    "```csharp\n",
    "// passing delegate as parameter\n",
    "\n",
    "\n",
    "var im = new InstanceMethod();\n",
    "MyDelegate imdel = im.MethodA;\n",
    "MyDelegate smdel = StaticMethod.MethodB;\n",
    "MyDelegate amdel = (string message) => System.Console.WriteLine($\"You are calling anonymous method with message {message}\");\n",
    "System.Console.WriteLine(\"------------------\");\n",
    "System.Console.WriteLine(\"imdel + smdel\");\n",
    "MyDelegate del = imdel + smdel  ;\n",
    "del(\"Hello world\");\n",
    "System.Console.WriteLine(\"------------------\");\n",
    "System.Console.WriteLine(\"imdel + smdel + amdel\");\n",
    "del  += amdel  ;\n",
    "del(\"Hello world\");\n",
    "\n",
    "System.Console.WriteLine(\"------------------\");\n",
    "System.Console.WriteLine(\"del -= imdel \");\n",
    "del -= imdel;\n",
    "del(\"Hello world\");\n",
    "\n",
    "class InstanceMethod\n",
    "{\n",
    "     public void MethodA(string message)\n",
    "     {\n",
    "        System.Console.WriteLine($\"You are calling instance MethodA() with message {message}\");\n",
    "     }\n",
    "}\n",
    "static class StaticMethod\n",
    "{\n",
    "     public static void MethodB(string message)\n",
    "     {\n",
    "        System.Console.WriteLine($\"You are calling static MethodB() with message {message}\");\n",
    "     }\n",
    "}\n",
    "\n",
    "public delegate void MyDelegate(string message);\n",
    "```\n",
    "\n"
   ]
  },
  {
   "cell_type": "markdown",
   "metadata": {},
   "source": [
    "3.Build project โดยการใช้คำสั่ง\n",
    "\n",
    "```cmd\n",
    "dotnet build  Lab19_Ex04\n",
    "```\n",
    "\n",
    "ถ้ามีที่ผิดพลาดในโปรแกรม ให้แก้ไขให้ถูกต้อง\n",
    "\n"
   ]
  },
  {
   "cell_type": "markdown",
   "metadata": {},
   "source": [
    "4.บันทึกผลที่ได้จากการรันคำสั่งในข้อ 3\n",
    "\n"
   ]
  },
  {
   "cell_type": "markdown",
   "metadata": {},
   "source": [
    "Lab19_Ex04 succeeded with 2 warning(s) (0.7s) → Lab19_Ex04\\bin\\Debug\\net9.0\\Lab19_Ex04.dll\n",
    "    C:\\lab 19\\Lab19-CSharp-Delegate\\Lab19_Ex04\\Program.cs(16,1): warning CS8601: Possible null reference assignment.\n",
    "    C:\\lab 19\\Lab19-CSharp-Delegate\\Lab19_Ex04\\Program.cs(17,1): warning CS8602: Dereference of a possibly null reference.\n",
    "\n",
    "Build succeeded with 2 warning(s) in 2.1s\n",
    "PS C:\\lab 19\\Lab19-CSharp-Delegate> dotnet build  Lab19_Ex04       \n",
    "Restore complete (0.4s)\n",
    "  Lab19_Ex04 succeeded with 2 warning(s) (0.5s) → Lab19_Ex04\\bin\\Debug\\net9.0\\Lab19_Ex04.dll\n",
    "    C:\\lab 19\\Lab19-CSharp-Delegate\\Lab19_Ex04\\Program.cs(19,1): warning CS8601: Possible null reference assignment.\n",
    "    C:\\lab 19\\Lab19-CSharp-Delegate\\Lab19_Ex04\\Program.cs(20,1): warning CS8602: Dereference of a possibly null reference.\n",
    "\n",
    "Build succeeded with 2 warning(s) in 1.6s"
   ]
  },
  {
   "cell_type": "markdown",
   "metadata": {},
   "source": [
    "5.Run project โดยการใช้คำสั่ง\n",
    "\n",
    "```cmd\n",
    "dotnet run --project Lab19_Ex04\n",
    "```\n",
    "\n"
   ]
  },
  {
   "cell_type": "markdown",
   "metadata": {},
   "source": [
    "6.บันทึกผลที่ได้จากการรันคำสั่งในข้อ 5\n",
    "\n"
   ]
  },
  {
   "cell_type": "markdown",
   "metadata": {},
   "source": [
    "------------------\n",
    "imdel + smdel\n",
    "\n",
    "You are calling instance MethodA() with message Hello world\n",
    "\n",
    "You are calling static MethodB() with message Hello world\n",
    "\n",
    "------------------\n",
    "imdel + smdel + amdel\n",
    "\n",
    "You are calling instance MethodA() with message Hello world\n",
    "\n",
    "You are calling static MethodB() with message Hello world\n",
    "\n",
    "You are calling anonymous method with message Hello world\n",
    "\n",
    "------------------\n",
    "del -= imdel\n",
    "\n",
    "You are calling static MethodB() with message Hello world\n",
    "\n",
    "You are calling anonymous method with message Hello world"
   ]
  },
  {
   "cell_type": "markdown",
   "metadata": {},
   "source": [
    "7.อธิบายสิ่งที่พบในการทดลอง\n"
   ]
  },
  {
   "cell_type": "markdown",
   "metadata": {},
   "source": [
    "โค้ดนี้รวม Delegate หลายตัวด้วย + เพื่อเรียกใช้ Method ทั้งหมดที่รวมกัน และใช้ -= เพื่อลบ Delegate ตัวหนึ่งออกจากการรวม ก่อนที่จะเรียกใช้ Delegate ที่เหลือ."
   ]
  }
 ],
 "metadata": {
  "kernelspec": {
   "display_name": ".NET (C#)",
   "language": "C#",
   "name": ".net-csharp"
  },
  "polyglot_notebook": {
   "kernelInfo": {
    "defaultKernelName": "csharp",
    "items": [
     {
      "aliases": [],
      "languageName": "csharp",
      "name": "csharp"
     }
    ]
   }
  }
 },
 "nbformat": 4,
 "nbformat_minor": 2
}
