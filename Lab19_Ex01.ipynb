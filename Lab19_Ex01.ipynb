{
 "cells": [
  {
   "cell_type": "markdown",
   "metadata": {
    "polyglot_notebook": {
     "kernelName": "csharp"
    }
   },
   "source": [
    "# Lab 19 Exercise 1\n",
    "\n"
   ]
  },
  {
   "cell_type": "markdown",
   "metadata": {},
   "source": [
    "## Delegate\n",
    "\n"
   ]
  },
  {
   "cell_type": "markdown",
   "metadata": {},
   "source": [
    "1.สร้าง console application project\n",
    "\n",
    "```cmd\n",
    "dotnet new console --name Lab19_Ex01\n",
    "```\n",
    "\n"
   ]
  },
  {
   "cell_type": "markdown",
   "metadata": {},
   "source": [
    "..2.เปลี่ยน code ให้เป็นดังต่อไปนี้\n",
    "\n",
    "```csharp\n",
    "// 2. add target method to delegate\n",
    "MyDelegate myDel1 = new MyDelegate(MyMethod);\n",
    "MyDelegate myDel2 = MyMethod;\n",
    "\n",
    "// 3. Invoke delegate\n",
    "myDel1(\"Hello World\");\n",
    "myDel1.Invoke(\"Hello Mars\");\n",
    "myDel2(\"Hello Saturn\");\n",
    "\n",
    "static  void  MyMethod(string message)\n",
    "{\n",
    "    System.Console.WriteLine(message);\n",
    "}\n",
    "\n",
    "// 1. declare delegate\n",
    "public delegate void MyDelegate(string message);\n",
    "```\n",
    "\n"
   ]
  },
  {
   "cell_type": "markdown",
   "metadata": {},
   "source": [
    "3.Build project โดยการใช้คำสั่ง\n",
    "\n",
    "```cmd\n",
    "dotnet build  Lab19_Ex01\n",
    "```\n",
    "\n",
    "ถ้ามีที่ผิดพลาดในโปรแกรม ให้แก้ไขให้ถูกต้อง\n",
    "\n"
   ]
  },
  {
   "cell_type": "markdown",
   "metadata": {},
   "source": [
    "4.บันทึกผลที่ได้จากการรันคำสั่งในข้อ 3\n",
    "\n"
   ]
  },
  {
   "cell_type": "markdown",
   "metadata": {},
   "source": [
    "Restore complete (0.4s)\n",
    "  Lab19_Ex1 succeeded (3.7s) → Lab19_Ex1/bin/Debug/net9.0/Lab19_Ex1.dll\n",
    "\n",
    "Build succeeded in 4.6s\n"
   ]
  },
  {
   "cell_type": "markdown",
   "metadata": {},
   "source": [
    "..5.Run project โดยการใช้คำสั่ง\n",
    "\n",
    "```cmd\n",
    "dotnet run --project Lab19_Ex01\n",
    "```\n",
    "\n"
   ]
  },
  {
   "cell_type": "markdown",
   "metadata": {},
   "source": [
    "6.บันทึกผลที่ได้จากการรันคำสั่งในข้อ 5\n",
    "\n"
   ]
  },
  {
   "cell_type": "markdown",
   "metadata": {},
   "source": [
    "Hello World\n",
    "\n",
    "Hello Mars\n",
    "\n",
    "Hello Saturn\n"
   ]
  },
  {
   "cell_type": "markdown",
   "metadata": {},
   "source": [
    "7.อธิบายสิ่งที่พบในการทดลอง\n"
   ]
  },
  {
   "cell_type": "markdown",
   "metadata": {},
   "source": [
    "มีการใช้ delegate มีการกำหนด delegate ชื่อ MyDelegate ที่รับพารามิเตอร์ประเภท string และไม่คืนค่า (void) จากนั้นมีการสร้าง delegate object\n",
    "\n",
    "สองตัวที่ชี้ไปยังเมธอด MyMethod โดย myDel1 ใช้รูปแบบการสร้างด้วย constructor ส่วน myDel2 ใช้รูปแบบการเขียนที่กระชับ (shorthand syntax)\n",
    "\n",
    "ทั้งสองตัวสามารถทำงานได้เหมือนกัน มีการเรียกใช้ delegate ทั้งสองรูปแบบคือ การเรียกโดยตรงเหมือนเป็นเมธอด (myDel1(\"Hello World\")) และการเรียกผ่านเมธอด Invoke\n",
    "\n",
    "(myDel1.Invoke(\"Hello Mars\")) ผลลัพธ์ที่ได้คือการแสดงข้อความ \"Hello World\", \"Hello Mars\" และ \"Hello Saturn\" ตามลำดับ"
   ]
  }
 ],
 "metadata": {
  "kernelspec": {
   "display_name": ".NET (C#)",
   "language": "C#",
   "name": ".net-csharp"
  },
  "polyglot_notebook": {
   "kernelInfo": {
    "defaultKernelName": "csharp",
    "items": [
     {
      "aliases": [],
      "languageName": "csharp",
      "name": "csharp"
     }
    ]
   }
  }
 },
 "nbformat": 4,
 "nbformat_minor": 2
}
